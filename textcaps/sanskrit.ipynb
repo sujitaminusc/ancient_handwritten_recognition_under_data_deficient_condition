{
 "cells": [
  {
   "cell_type": "code",
   "execution_count": 10,
   "metadata": {},
   "outputs": [],
   "source": [
    "import numpy as np\n",
    "import os\n",
    "import cv2\n"
   ]
  },
  {
   "cell_type": "code",
   "execution_count": 11,
   "metadata": {},
   "outputs": [],
   "source": [
    "def load_images(root_folder):\n",
    "    images = []\n",
    "    labels = []\n",
    "\n",
    "    for folder_name in os.listdir(root_folder):\n",
    "        folder_path = os.path.join(root_folder, folder_name)\n",
    "\n",
    "        if os.path.isdir(folder_path):\n",
    "            for filename in os.listdir(folder_path):\n",
    "                img = cv2.imread(os.path.join(folder_path, filename))\n",
    "                if img is not None:\n",
    "                    images.append(img)\n",
    "                    labels.append(folder_name)  # Use folder name as the label\n",
    "\n",
    "    return np.array(images), np.array(labels)"
   ]
  },
  {
   "cell_type": "code",
   "execution_count": 12,
   "metadata": {},
   "outputs": [],
   "source": [
    "X_test,y_test= load_images(\"Tamil/test\")\n",
    "X_train,y_train= load_images(\"Tamil/train\")"
   ]
  },
  {
   "cell_type": "code",
   "execution_count": 13,
   "metadata": {},
   "outputs": [],
   "source": [
    "X_test=X_test[:,:,:,0]\n",
    "X_train=X_train[:,:,:,0]"
   ]
  },
  {
   "cell_type": "code",
   "execution_count": 14,
   "metadata": {},
   "outputs": [],
   "source": [
    "X_test=np.expand_dims(X_test, axis=-1)\n",
    "X_train=np.expand_dims(X_train, axis=-1)"
   ]
  },
  {
   "cell_type": "code",
   "execution_count": 15,
   "metadata": {},
   "outputs": [],
   "source": [
    "y_test = y_test.astype(int)\n",
    "y_train = y_train.astype(int)"
   ]
  },
  {
   "cell_type": "code",
   "execution_count": 16,
   "metadata": {},
   "outputs": [
    {
     "data": {
      "text/plain": [
       "numpy.int64"
      ]
     },
     "execution_count": 16,
     "metadata": {},
     "output_type": "execute_result"
    }
   ],
   "source": [
    "type(y_test[0])"
   ]
  },
  {
   "cell_type": "code",
   "execution_count": 17,
   "metadata": {},
   "outputs": [],
   "source": [
    "import numpy as np\n",
    "import tensorflow as tf\n",
    "from tensorflow.keras import layers, models, callbacks\n"
   ]
  },
  {
   "cell_type": "code",
   "execution_count": 18,
   "metadata": {},
   "outputs": [
    {
     "name": "stdout",
     "output_type": "stream",
     "text": [
      "Epoch 1/50\n",
      "1572/1572 [==============================] - 140s 88ms/step - loss: 1.2699 - accuracy: 0.6929 - val_loss: 0.4707 - val_accuracy: 0.8718\n",
      "Epoch 2/50\n",
      "1572/1572 [==============================] - 132s 84ms/step - loss: 0.3101 - accuracy: 0.9111 - val_loss: 0.3018 - val_accuracy: 0.9131\n",
      "Epoch 3/50\n",
      "1572/1572 [==============================] - 140s 89ms/step - loss: 0.1975 - accuracy: 0.9393 - val_loss: 0.2760 - val_accuracy: 0.9233\n",
      "Epoch 4/50\n",
      "1572/1572 [==============================] - 140s 89ms/step - loss: 0.1367 - accuracy: 0.9562 - val_loss: 0.2651 - val_accuracy: 0.9277\n",
      "Epoch 5/50\n",
      "1572/1572 [==============================] - 144s 92ms/step - loss: 0.1071 - accuracy: 0.9655 - val_loss: 0.2943 - val_accuracy: 0.9269\n",
      "Epoch 6/50\n",
      "1572/1572 [==============================] - 147s 94ms/step - loss: 0.0799 - accuracy: 0.9728 - val_loss: 0.2815 - val_accuracy: 0.9307\n",
      "Epoch 7/50\n",
      "1572/1572 [==============================] - 156s 99ms/step - loss: 0.0663 - accuracy: 0.9775 - val_loss: 0.3607 - val_accuracy: 0.9247\n"
     ]
    },
    {
     "name": "stderr",
     "output_type": "stream",
     "text": [
      "/Users/apple/anaconda3/lib/python3.11/site-packages/keras/src/engine/training.py:3103: UserWarning: You are saving your model as an HDF5 file via `model.save()`. This file format is considered legacy. We recommend using instead the native Keras format, e.g. `model.save('my_model.keras')`.\n",
      "  saving_api.save_model(\n"
     ]
    }
   ],
   "source": [
    "X_train, X_test = X_train / 255.0, X_test / 255.0\n",
    "\n",
    "model = models.Sequential()\n",
    "model.add(layers.Conv2D(32, (3, 3), activation='relu', input_shape=(64, 64, 1)))\n",
    "model.add(layers.MaxPooling2D((2, 2)))\n",
    "model.add(layers.Conv2D(64, (3, 3), activation='relu'))\n",
    "model.add(layers.MaxPooling2D((2, 2)))\n",
    "model.add(layers.Conv2D(128, (3, 3), activation='relu'))\n",
    "model.add(layers.MaxPooling2D((2, 2)))\n",
    "model.add(layers.Flatten())\n",
    "model.add(layers.Dense(128, activation='relu'))\n",
    "model.add(layers.Dense(64, activation='relu'))\n",
    "model.add(layers.Dense(156, activation='softmax'))  \n",
    "\n",
    "# Compile the model with Adam optimizer\n",
    "optimizer = tf.keras.optimizers.Adam(learning_rate=0.001)  # Adjust the learning rate as needed\n",
    "model.compile(optimizer=optimizer,\n",
    "              loss='sparse_categorical_crossentropy',\n",
    "              metrics=['accuracy'])\n",
    "\n",
    "# Define early stopping\n",
    "early_stopping = callbacks.EarlyStopping(monitor='val_loss', patience=3)\n",
    "\n",
    "# Train the model with early stopping and Adam optimizer\n",
    "history = model.fit(X_train, y_train, epochs=50, validation_data=(X_test, y_test), callbacks=[early_stopping])\n",
    "\n",
    "model.save('tamil_model.h5')\n"
   ]
  },
  {
   "cell_type": "code",
   "execution_count": 22,
   "metadata": {},
   "outputs": [
    {
     "name": "stdout",
     "output_type": "stream",
     "text": [
      "393/393 - 7s - loss: 0.3607 - accuracy: 0.9247 - 7s/epoch - 18ms/step\n",
      "\n",
      "Test accuracy: 0.9246858358383179\n",
      "393/393 - 8s - loss: 0.3607 - accuracy: 0.9247 - 8s/epoch - 19ms/step\n"
     ]
    }
   ],
   "source": [
    "# Evaluate the model on the test set\n",
    "test_loss, test_acc = model.evaluate(X_test, y_test, verbose=2)\n",
    "print(f\"\\nTest accuracy: {test_acc}\")\n",
    "print(X_test, y_test)\n",
    "test_loss, test_acc = model.evaluate(X_test, y_test, verbose=2)"
   ]
  },
  {
   "cell_type": "code",
   "execution_count": 23,
   "metadata": {},
   "outputs": [],
   "source": [
    "from tensorflow.keras.models import load_model"
   ]
  },
  {
   "cell_type": "code",
   "execution_count": 26,
   "metadata": {},
   "outputs": [
    {
     "name": "stdout",
     "output_type": "stream",
     "text": [
      "393/393 - 8s - loss: 0.3607 - accuracy: 0.9247 - 8s/epoch - 19ms/step\n"
     ]
    }
   ],
   "source": [
    "from tensorflow.keras.models import load_model\n",
    "\n",
    "model = load_model('tamil_model.h5')\n",
    "test_loss, test_acc = model.evaluate(X_test, y_test, verbose=2)"
   ]
  }
 ],
 "metadata": {
  "kernelspec": {
   "display_name": "base",
   "language": "python",
   "name": "python3"
  },
  "language_info": {
   "codemirror_mode": {
    "name": "ipython",
    "version": 3
   },
   "file_extension": ".py",
   "mimetype": "text/x-python",
   "name": "python",
   "nbconvert_exporter": "python",
   "pygments_lexer": "ipython3",
   "version": "3.11.5"
  }
 },
 "nbformat": 4,
 "nbformat_minor": 2
}
